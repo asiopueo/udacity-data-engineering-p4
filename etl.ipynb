{
 "cells": [
  {
   "cell_type": "code",
   "execution_count": 1,
   "metadata": {
    "editable": true
   },
   "outputs": [],
   "source": [
    "import configparser\n",
    "from datetime import datetime\n",
    "import os\n",
    "from pyspark.sql import SparkSession\n",
    "from pyspark.sql.functions import *\n",
    "from pyspark.sql.functions import year, month, dayofmonth, hour, weekofyear, dayofweek, date_format\n",
    "from pyspark.sql.types import IntegerType\n",
    "\n",
    "import logging\n",
    "logging.basicConfig(level=logging.INFO)"
   ]
  },
  {
   "cell_type": "markdown",
   "metadata": {
    "editable": true
   },
   "source": [
    "### Configuration for EMR:"
   ]
  },
  {
   "cell_type": "code",
   "execution_count": 2,
   "metadata": {
    "editable": true
   },
   "outputs": [],
   "source": [
    "config = configparser.ConfigParser()\n",
    "config.read('dl.cfg')\n",
    "#print(config.sections())\n",
    "\n",
    "os.environ['AWS_ACCESS_KEY_ID']=config['AWS']['AWS_ACCESS_KEY_ID']\n",
    "os.environ['AWS_SECRET_ACCESS_KEY']=config['AWS']['AWS_SECRET_ACCESS_KEY']"
   ]
  },
  {
   "cell_type": "markdown",
   "metadata": {
    "editable": true
   },
   "source": [
    "### These are the main components:"
   ]
  },
  {
   "cell_type": "code",
   "execution_count": 3,
   "metadata": {
    "editable": true
   },
   "outputs": [],
   "source": [
    "def create_spark_session():\n",
    "    spark = SparkSession \\\n",
    "        .builder \\\n",
    "        .config(\"spark.jars.packages\", \"org.apache.hadoop:hadoop-aws:2.7.0\") \\\n",
    "        .getOrCreate()\n",
    "    return spark"
   ]
  },
  {
   "cell_type": "code",
   "execution_count": 4,
   "metadata": {
    "editable": true
   },
   "outputs": [],
   "source": [
    "def process_song_data(spark, input_data, output_data):\n",
    "    \"\"\"\n",
    "        This function takes the song_data-files and creates two tables:\n",
    "            * the songs_table (dim)\n",
    "            * the artists_table (dim)\n",
    "        Finally, these two tables are saved as paquet-files.\n",
    "    \"\"\"\n",
    "    \n",
    "    logging.info(\"Processing song data\")\n",
    "    \n",
    "    # get filepath to song data file\n",
    "    song_data = os.path.join(input_data, 'song_data/*/*/*/*.json')\n",
    "    \n",
    "    # read song data file\n",
    "    df = spark.read.option(\"recursiveFileLookup\", \"true\").json(song_data)\n",
    "    #df = spark.read.json(song_data)\n",
    "\n",
    "    #print(df.printSchema())\n",
    "    \"\"\"\n",
    "    root                                                                                                                                       \n",
    "     |-- artist_id: string (nullable = true)\n",
    "     |-- artist_latitude: double (nullable = true)\n",
    "     |-- artist_location: string (nullable = true)\n",
    "     |-- artist_longitude: double (nullable = true)\n",
    "     |-- artist_name: string (nullable = true)\n",
    "     |-- duration: double (nullable = true)\n",
    "     |-- num_songs: long (nullable = true)\n",
    "     |-- song_id: string (nullable = true)\n",
    "     |-- title: string (nullable = true)\n",
    "     |-- year: long (nullable = true)\n",
    "    \"\"\"\n",
    "    \n",
    "    # extract columns to create songs table\n",
    "    # We require the following columns: song_id, title, artist_id, year, duration\n",
    "    songs_table = df.select(['song_id', 'title', 'artist_id', 'year', 'duration'])\n",
    "    \n",
    "    \n",
    "    # write songs table to parquet files partitioned by year and artist\n",
    "    #songs_table.write.partitionBy('year', 'artist_id').save(output_data + 'songs_table_csv', format='csv', header=True)\n",
    "    songs_table.write.partitionBy('year', 'artist_id').parquet(output_data + 'songs_table_parquet')\n",
    "\n",
    "    # extract columns to create artists table\n",
    "    # We require the following columns: artist_id, name, location, latitude, longitude\n",
    "    artists_table = df.select(['artist_id', 'artist_name', 'artist_location', 'artist_latitude', 'artist_longitude'])\n",
    "    artists_table = artists_table.toDF('artist_id', 'name', 'location', 'latitude', 'longitude')\n",
    "    \n",
    "    # write artists table to parquet files\n",
    "    #artists_table.write.save(output_data + 'artists_table_csv', format='csv', header=True)\n",
    "    artists_table.write.parquet(output_data + 'artists_table_parquet')"
   ]
  },
  {
   "cell_type": "code",
   "execution_count": 5,
   "metadata": {
    "editable": true
   },
   "outputs": [],
   "source": [
    "def process_log_data(spark, input_data, output_data):\n",
    "    \"\"\"\n",
    "        This function takes the song_data-files and creates two tables:\n",
    "            * the users_table (dim)\n",
    "            * the time_table (dim)\n",
    "            * and finally the songplays_table (fact)\n",
    "        Finally, these two tables are saved as paquet-files.\n",
    "    \"\"\"\n",
    "    logging.info(\"Processing log data\")\n",
    "    # get filepath to log data file\n",
    "    log_data = os.path.join(input_data, 'log_data')\n",
    "    song_data = os.path.join(input_data, 'song_data/*/*/*/*.json')\n",
    "    \n",
    "    # read log data file\n",
    "    log_df = spark.read.json(log_data)\n",
    "    \n",
    "    #log_df.printSchema()\n",
    "    \"\"\"\n",
    "    root                                                                                                                                    \n",
    "     |-- artist: string (nullable = true)\n",
    "     |-- auth: string (nullable = true)\n",
    "     |-- firstName: string (nullable = true)\n",
    "     |-- gender: string (nullable = true)\n",
    "     |-- itemInSession: long (nullable = true)\n",
    "     |-- lastName: string (nullable = true)\n",
    "     |-- length: double (nullable = true)\n",
    "     |-- level: string (nullable = true)\n",
    "     |-- location: string (nullable = true)\n",
    "     |-- method: string (nullable = true)\n",
    "     |-- page: string (nullable = true)\n",
    "     |-- registration: double (nullable = true)\n",
    "     |-- sessionId: long (nullable = true)\n",
    "     |-- song: string (nullable = true)\n",
    "     |-- status: long (nullable = true)\n",
    "     |-- ts: long (nullable = true)\n",
    "     |-- userAgent: string (nullable = true)\n",
    "     |-- userId: string (nullable = true)\n",
    "    \"\"\"\n",
    "    \n",
    "    # filter by actions for song plays\n",
    "    log_df = log_df.filter( log_df['page'] == 'NextSong' )\n",
    "\n",
    "    ## extract columns for users table   \n",
    "    # We require the following columns: user_id, first_name, last_name, gender, level\n",
    "    users_table = log_df.select(['userId', 'firstName', 'lastName', 'gender', 'level'])\n",
    "    users_table = users_table.toDF('user_id', 'first_name', 'last_name', 'gender', 'level')\n",
    "    \n",
    "    # write users table to parquet files\n",
    "    #users_table.write.save(output_data + 'users_table_csv', format='csv', header=True)\n",
    "    users_table.write.parquet(output_data + 'users_table_parquet')\n",
    "\n",
    "    # create timestamp column from original timestamp column\n",
    "    # Epoch time is measured in seconds, and the build-in function from_unixtime\n",
    "    # Hence, the timestamp values need to be converted from milliseconds to seconds first\n",
    "    get_timestamp = udf(lambda x: datetime.fromtimestamp(x/1000).strftime('%Y-%m-%d %H:%M:%S'))\n",
    "\n",
    "    log_df = log_df.withColumn(\"timestamp\", get_timestamp('ts'))\n",
    "   \n",
    "    \n",
    "    ## extract columns to create time table\n",
    "    # We require the following columns: start_time, hour, day, week, month, year, weekday\n",
    "\n",
    "    get_starttime = udf(lambda x: datetime.fromtimestamp(x/1000).strftime('%H:%M:%S'))\n",
    "\n",
    "    time_table = log_df.select(\n",
    "        get_starttime('ts').alias('start_time'),\n",
    "        hour('timestamp').alias('hour'),\n",
    "        dayofmonth('timestamp').alias('day'),\n",
    "        weekofyear('timestamp').alias('week'),\n",
    "        month('timestamp').alias('month'),\n",
    "        year('timestamp').alias('year'),\n",
    "        dayofweek('timestamp').alias('weekday')\n",
    "    )\n",
    "    \n",
    "\n",
    "    # write time table to parquet files partitioned by year and month\n",
    "    #time_table.write.partitionBy('year', 'month').save(output_data + 'time_table_csv', format='csv', header=True)\n",
    "    time_table.write.partitionBy('year', 'month').parquet(output_data + 'time_table_parquet')\n",
    "\n",
    "    # read in song data to use for songplays table\n",
    "    song_df = spark.read.json(song_data)\n",
    "\n",
    "    ## extract columns from joined song and log datasets to create songplays table\n",
    "    # We require the following columns: songplay_id, start_time, user_id, level, song_id, artist_id, session_id, location, user_agent\n",
    "    \n",
    "    # Enrich data with a primary key\n",
    "    log_df = log_df.withColumn(\"songplay_id\", monotonically_increasing_id())\n",
    "    \n",
    "    songplays_table = log_df.join(song_df, log_df.artist == song_df.artist_name , \"inner\")\\\n",
    "            .select(\n",
    "            col('songplay_id'),\n",
    "            col('timestamp').alias('start_time'), \n",
    "            year('timestamp').alias('year'),\n",
    "            month('timestamp').alias('month'),\n",
    "            col('userId').alias('user_id'), \n",
    "            col('level'), \n",
    "            col('song_id'), \n",
    "            col('artist_id'), \n",
    "            col('sessionId').alias('session_id'), \n",
    "            col('artist_location').alias('location'), \n",
    "            col('userAgent').alias('user_agent')\n",
    "    )\n",
    "    \n",
    "    # write songplays table to parquet files partitioned by year and month\n",
    "    #songplays_table.write.partitionBy('year', 'month').save(output_data + 'songplays_table_csv', format='csv', header=True)\n",
    "    songplays_table.write.partitionBy('year', 'month').parquet(output_data + 'songplays_table_parquet')"
   ]
  },
  {
   "cell_type": "markdown",
   "metadata": {
    "editable": true
   },
   "source": [
    "# Main Function:"
   ]
  },
  {
   "cell_type": "code",
   "execution_count": 6,
   "metadata": {
    "editable": true
   },
   "outputs": [
    {
     "name": "stderr",
     "output_type": "stream",
     "text": [
      "INFO:root:Processing song data\n",
      "INFO:root:Processing log data\n"
     ]
    }
   ],
   "source": [
    "spark = create_spark_session()\n",
    "\n",
    "input_s3_bucket = 's3a://udacity-dend/' \n",
    "output_s3_bucket = 's3a://sparkifyllc-analytics/'\n",
    "local_dir = '/home/workspace/'\n",
    "\n",
    "# Flag to select either local storage on client or S3-bucket for data in- and output\n",
    "use_s3 = False\n",
    "\n",
    "if use_s3:\n",
    "    input_path = input_s3_bucket\n",
    "    output_path = os.path.join(output_s3_bucket, 'output/')\n",
    "else:\n",
    "    input_path = os.path.join(local_dir, 'data/')\n",
    "    output_path = os.path.join(local_dir, 'output/')\n",
    "    \n",
    "process_song_data(spark, input_path, output_path)    \n",
    "process_log_data(spark, input_path, output_path)"
   ]
  },
  {
   "cell_type": "code",
   "execution_count": null,
   "metadata": {
    "editable": true
   },
   "outputs": [],
   "source": []
  }
 ],
 "metadata": {
  "kernelspec": {
   "display_name": "Python 3",
   "language": "python",
   "name": "python3"
  },
  "language_info": {
   "codemirror_mode": {
    "name": "ipython",
    "version": 3
   },
   "file_extension": ".py",
   "mimetype": "text/x-python",
   "name": "python",
   "nbconvert_exporter": "python",
   "pygments_lexer": "ipython3",
   "version": "3.6.3"
  }
 },
 "nbformat": 4,
 "nbformat_minor": 4
}
